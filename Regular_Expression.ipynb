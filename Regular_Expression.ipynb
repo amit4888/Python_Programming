{
 "cells": [
  {
   "cell_type": "markdown",
   "id": "17235ac5",
   "metadata": {},
   "source": [
    "# 📌 Regular Expressions (RegEx) "
   ]
  },
  {
   "cell_type": "code",
   "execution_count": 1,
   "id": "239ded86",
   "metadata": {},
   "outputs": [],
   "source": [
    "# 🔹 What is a Regular Expression?\n",
    "# A Regular Expression (RegEx) is a pattern that helps you search, match, and manipulate text efficiently.\n",
    "\n",
    "# 📌 Example:\n",
    "# ✅ Searching for all email addresses in a text.\n",
    "# ✅ Finding phone numbers in a document.\n",
    "# ✅ Validating if a password meets specific criteria."
   ]
  },
  {
   "cell_type": "markdown",
   "id": "823ab96c",
   "metadata": {},
   "source": [
    "# Basic Syntax and Special character"
   ]
  },
  {
   "cell_type": "markdown",
   "id": "213ab488",
   "metadata": {},
   "source": [
    "# . (Dot) - Matches Any Character Except Newline"
   ]
  },
  {
   "cell_type": "code",
   "execution_count": null,
   "id": "81a0609f",
   "metadata": {},
   "outputs": [],
   "source": [
    "# It matches exactly one character (any letter, digit, symbol, or space).\n",
    "# It is often used as a wildcard to find patterns where the exact character is unknown."
   ]
  },
  {
   "cell_type": "code",
   "execution_count": 17,
   "id": "6a3d31c4",
   "metadata": {},
   "outputs": [
    {
     "name": "stdout",
     "output_type": "stream",
     "text": [
      "['mac', ' le', 'arn', 'ing', ' is', ' a ', 'sub', 'fie', 'ld ', 'of ', 'Dee', 'p L', 'ear', 'nin', 'g. ', 'I a', 'm l', 'ear', 'nin', 'g C', 'omp', 'ute', 'r V', 'isi', 'on.', ' I ', 'wan', 't t', 'o b', 'eco', 'me ', 'Dat', 'a S', 'cie', 'nti', 'st.', 'My ', 'fav', 'our', 'ite', ' su', 'bje', 'ct ', 'is ', 'Mac', 'hin', 'e L', 'r. ', 'I w', 'ant', ' to', ' st', 'udy', ' in', ' ab', 'roa', 'd f', 'or ', 'M.S', 'c. ', 'in ', 'Dat', 'a S', 'cie', 'nce']\n"
     ]
    }
   ],
   "source": [
    "# Example 1\n",
    "import re\n",
    "\n",
    "# sample text\n",
    "text = \"\"\"\n",
    "mac learning is a subfield of Deep Learning. I am learning Computer Vision. I want to become Data Scientist.\n",
    "My favourite subject is Machine Lr. I want to study in abroad for M.Sc. in Data Science.\n",
    "\"\"\"\n",
    "pattern = r\"...\"\n",
    "\n",
    "matches = re.findall(pattern, text)\n",
    "print(matches)"
   ]
  },
  {
   "cell_type": "code",
   "execution_count": 20,
   "id": "6611f7d5",
   "metadata": {},
   "outputs": [
    {
     "name": "stdout",
     "output_type": "stream",
     "text": [
      "['cat', 'cut', 'c9t', 'c_t', 'c&t']\n"
     ]
    }
   ],
   "source": [
    "# Example 2\n",
    "text = \"[cat cut c9t c_t c&t cool]\"\n",
    "\n",
    "pattern = r\"c.t\"  # Match any character between 'c' and 't'\n",
    "\n",
    "matches = re.findall(pattern, text)\n",
    "print(matches)"
   ]
  },
  {
   "cell_type": "code",
   "execution_count": 19,
   "id": "cc55a34c",
   "metadata": {},
   "outputs": [
    {
     "name": "stdout",
     "output_type": "stream",
     "text": [
      "['Big', 'Bag']\n"
     ]
    }
   ],
   "source": [
    "# Example 3\n",
    "text = \"Big Bag Ball Bat Bear Beat \"\n",
    "\n",
    "pattern = r\"B.g\"  # Matches 'b', any character, and 'g'\n",
    "\n",
    "matches = re.findall(pattern, text)\n",
    "print(matches)"
   ]
  },
  {
   "cell_type": "code",
   "execution_count": null,
   "id": "f1c31142",
   "metadata": {},
   "outputs": [],
   "source": []
  },
  {
   "cell_type": "code",
   "execution_count": null,
   "id": "22c368b9",
   "metadata": {},
   "outputs": [],
   "source": []
  },
  {
   "cell_type": "code",
   "execution_count": null,
   "id": "b0a318fd",
   "metadata": {},
   "outputs": [],
   "source": []
  },
  {
   "cell_type": "code",
   "execution_count": null,
   "id": "d614e13e",
   "metadata": {},
   "outputs": [],
   "source": []
  },
  {
   "cell_type": "code",
   "execution_count": null,
   "id": "6a29b018",
   "metadata": {},
   "outputs": [],
   "source": []
  },
  {
   "cell_type": "code",
   "execution_count": null,
   "id": "7b3eea91",
   "metadata": {},
   "outputs": [],
   "source": []
  }
 ],
 "metadata": {
  "kernelspec": {
   "display_name": "Python 3 (ipykernel)",
   "language": "python",
   "name": "python3"
  },
  "language_info": {
   "codemirror_mode": {
    "name": "ipython",
    "version": 3
   },
   "file_extension": ".py",
   "mimetype": "text/x-python",
   "name": "python",
   "nbconvert_exporter": "python",
   "pygments_lexer": "ipython3",
   "version": "3.11.5"
  }
 },
 "nbformat": 4,
 "nbformat_minor": 5
}
